{
 "cells": [
  {
   "cell_type": "code",
   "execution_count": null,
   "id": "4b499ff2",
   "metadata": {},
   "outputs": [],
   "source": [
    "pip install rembg"
   ]
  },
  {
   "cell_type": "code",
   "execution_count": 3,
   "id": "899d1031",
   "metadata": {},
   "outputs": [
    {
     "name": "stdout",
     "output_type": "stream",
     "text": [
      "Requirement already satisfied: Pillow in c:\\users\\asus\\anaconda3\\lib\\site-packages (9.2.0)\n",
      "Note: you may need to restart the kernel to use updated packages.\n"
     ]
    },
    {
     "name": "stderr",
     "output_type": "stream",
     "text": [
      "WARNING: You are using pip version 21.3; however, version 22.2.2 is available.\n",
      "You should consider upgrading via the 'C:\\Users\\asus\\anaconda3\\python.exe -m pip install --upgrade pip' command.\n"
     ]
    }
   ],
   "source": [
    "pip install Pillow"
   ]
  },
  {
   "cell_type": "code",
   "execution_count": 1,
   "id": "d09e86bc",
   "metadata": {},
   "outputs": [],
   "source": [
    "from rembg import remove\n"
   ]
  },
  {
   "cell_type": "code",
   "execution_count": 2,
   "id": "4c3dc9a0",
   "metadata": {},
   "outputs": [
    {
     "ename": "NameError",
     "evalue": "name 'output' is not defined",
     "output_type": "error",
     "traceback": [
      "\u001b[1;31m---------------------------------------------------------------------------\u001b[0m",
      "\u001b[1;31mNameError\u001b[0m                                 Traceback (most recent call last)",
      "\u001b[1;32mc:\\Users\\asus\\Documents\\Python_Project\\Day 120 remove Image Background.ipynb Cell 4\u001b[0m in \u001b[0;36m<cell line: 6>\u001b[1;34m()\u001b[0m\n\u001b[0;32m      <a href='vscode-notebook-cell:/c%3A/Users/asus/Documents/Python_Project/Day%20120%20remove%20Image%20Background.ipynb#W3sZmlsZQ%3D%3D?line=3'>4</a>\u001b[0m \u001b[39minput\u001b[39m \u001b[39m=\u001b[39m Image\u001b[39m.\u001b[39mopen(input_path)\n\u001b[0;32m      <a href='vscode-notebook-cell:/c%3A/Users/asus/Documents/Python_Project/Day%20120%20remove%20Image%20Background.ipynb#W3sZmlsZQ%3D%3D?line=4'>5</a>\u001b[0m outout \u001b[39m=\u001b[39m remove(\u001b[39minput\u001b[39m)\n\u001b[1;32m----> <a href='vscode-notebook-cell:/c%3A/Users/asus/Documents/Python_Project/Day%20120%20remove%20Image%20Background.ipynb#W3sZmlsZQ%3D%3D?line=5'>6</a>\u001b[0m output\u001b[39m.\u001b[39msave(output_path)\n",
      "\u001b[1;31mNameError\u001b[0m: name 'output' is not defined"
     ]
    }
   ],
   "source": [
    "from PIL import Image\n",
    "input_path = 'cl.jpg'\n",
    "output_path = 'output.png'\n",
    "input = Image.open(input_path)\n",
    "outout = remove(input)\n",
    "output.save(output_path)\n"
   ]
  },
  {
   "cell_type": "code",
   "execution_count": null,
   "id": "e37f5bd1",
   "metadata": {},
   "outputs": [],
   "source": []
  }
 ],
 "metadata": {
  "kernelspec": {
   "display_name": "Python 3 (ipykernel)",
   "language": "python",
   "name": "python3"
  },
  "language_info": {
   "codemirror_mode": {
    "name": "ipython",
    "version": 3
   },
   "file_extension": ".py",
   "mimetype": "text/x-python",
   "name": "python",
   "nbconvert_exporter": "python",
   "pygments_lexer": "ipython3",
   "version": "3.9.12"
  }
 },
 "nbformat": 4,
 "nbformat_minor": 5
}
